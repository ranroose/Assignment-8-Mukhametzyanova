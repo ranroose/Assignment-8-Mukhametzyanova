{
 "cells": [
  {
   "cell_type": "code",
   "execution_count": 2,
   "id": "a09e6bee-f56b-4f59-a0c9-f3c50ee2c68b",
   "metadata": {
    "tags": []
   },
   "outputs": [
    {
     "name": "stdout",
     "output_type": "stream",
     "text": [
      "Number of string elements: 3\n"
     ]
    }
   ],
   "source": [
    "my_list = [42, 'apple', 3.14, 'banana', True, None, 'cherry', [1, 2, 3], {'key': 'value'}, (5, 6)]\n",
    "string_count = 0\n",
    "for element in my_list:\n",
    "    if type(element) == str:\n",
    "        string_count += 1\n",
    "print(\"Number of string elements:\", string_count)\n"
   ]
  },
  {
   "cell_type": "code",
   "execution_count": null,
   "id": "9d463567-e234-41b8-b721-7abdcbde93b9",
   "metadata": {},
   "outputs": [],
   "source": []
  }
 ],
 "metadata": {
  "kernelspec": {
   "display_name": "Python 3 (ipykernel)",
   "language": "python",
   "name": "python3"
  },
  "language_info": {
   "codemirror_mode": {
    "name": "ipython",
    "version": 3
   },
   "file_extension": ".py",
   "mimetype": "text/x-python",
   "name": "python",
   "nbconvert_exporter": "python",
   "pygments_lexer": "ipython3",
   "version": "3.10.9"
  }
 },
 "nbformat": 4,
 "nbformat_minor": 5
}
