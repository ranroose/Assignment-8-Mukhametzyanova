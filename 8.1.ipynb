{
 "cells": [
  {
   "cell_type": "code",
   "execution_count": 5,
   "id": "49f33f02-3d95-4e78-b9ee-32f4201cc966",
   "metadata": {
    "tags": []
   },
   "outputs": [
    {
     "name": "stdin",
     "output_type": "stream",
     "text": [
      "a=  1\n",
      "b=  2\n",
      "c=  3\n"
     ]
    },
    {
     "name": "stdout",
     "output_type": "stream",
     "text": [
      "There are your sorted numbers:  1     2     3\n"
     ]
    }
   ],
   "source": [
    "a = int (input('a= '))\n",
    "b = int (input('b= '))\n",
    "c = int (input('c= '))\n",
    "\n",
    "\n",
    "if a > b:\n",
    "    x = a\n",
    "    a = b\n",
    "    b = x\n",
    "\n",
    "if a > c:\n",
    "    x = a\n",
    "    a = c\n",
    "    c = x\n",
    "\n",
    "if b > c:\n",
    "    x = b\n",
    "    b = c\n",
    "    c = x\n",
    "\n",
    "print(\"There are your sorted numbers: \", a, '   ', b, '   ', c)\n"
   ]
  },
  {
   "cell_type": "code",
   "execution_count": null,
   "id": "3b83c103-3b9d-450f-bfef-00ad54e0d47d",
   "metadata": {},
   "outputs": [],
   "source": []
  }
 ],
 "metadata": {
  "kernelspec": {
   "display_name": "Python 3 (ipykernel)",
   "language": "python",
   "name": "python3"
  },
  "language_info": {
   "codemirror_mode": {
    "name": "ipython",
    "version": 3
   },
   "file_extension": ".py",
   "mimetype": "text/x-python",
   "name": "python",
   "nbconvert_exporter": "python",
   "pygments_lexer": "ipython3",
   "version": "3.10.9"
  }
 },
 "nbformat": 4,
 "nbformat_minor": 5
}
